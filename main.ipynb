{
 "cells": [
  {
   "cell_type": "markdown",
   "source": [
    "Methodology\n",
    "4.1 Data Science Workflow/Framework\n",
    "4.1.1. Data Collection\n",
    "4.1.2 Data Preprocessing\n",
    "4.1.3 Data Exploration\n",
    "4.1.4 Data Modelling\n",
    "4.1.5 Model Evaluation"
   ],
   "metadata": {
    "collapsed": false
   }
  },
  {
   "cell_type": "code",
   "execution_count": 1,
   "outputs": [],
   "source": [
    "import os\n",
    "import json\n",
    "from flatten_json import flatten\n",
    "from PIL import Image, ImageDraw\n",
    "import pandas as pd\n",
    "import numpy as np\n",
    "import matplotlib.pyplot as plt"
   ],
   "metadata": {
    "collapsed": false
   }
  },
  {
   "cell_type": "code",
   "execution_count": 2,
   "outputs": [
    {
     "data": {
      "text/plain": "                                               Label           Description  \\\n0  {'objects': [{'title': 'None', 'value': 'none'...  Within normal limits   \n1  {'objects': [{'title': 'None', 'value': 'none'...  Within normal limits   \n2  {'objects': [{'title': 'None', 'value': 'none'...  Within normal limits   \n3  {'objects': [{'title': 'None', 'value': 'none'...  Within normal limits   \n4  {'objects': [{'title': 'None', 'value': 'none'...  Within normal limits   \n\n  External ID  \n0      53.JPG  \n1     823.JPG  \n2      85.JPG  \n3     855.JPG  \n4     117.JPG  ",
      "text/html": "<div>\n<style scoped>\n    .dataframe tbody tr th:only-of-type {\n        vertical-align: middle;\n    }\n\n    .dataframe tbody tr th {\n        vertical-align: top;\n    }\n\n    .dataframe thead th {\n        text-align: right;\n    }\n</style>\n<table border=\"1\" class=\"dataframe\">\n  <thead>\n    <tr style=\"text-align: right;\">\n      <th></th>\n      <th>Label</th>\n      <th>Description</th>\n      <th>External ID</th>\n    </tr>\n  </thead>\n  <tbody>\n    <tr>\n      <th>0</th>\n      <td>{'objects': [{'title': 'None', 'value': 'none'...</td>\n      <td>Within normal limits</td>\n      <td>53.JPG</td>\n    </tr>\n    <tr>\n      <th>1</th>\n      <td>{'objects': [{'title': 'None', 'value': 'none'...</td>\n      <td>Within normal limits</td>\n      <td>823.JPG</td>\n    </tr>\n    <tr>\n      <th>2</th>\n      <td>{'objects': [{'title': 'None', 'value': 'none'...</td>\n      <td>Within normal limits</td>\n      <td>85.JPG</td>\n    </tr>\n    <tr>\n      <th>3</th>\n      <td>{'objects': [{'title': 'None', 'value': 'none'...</td>\n      <td>Within normal limits</td>\n      <td>855.JPG</td>\n    </tr>\n    <tr>\n      <th>4</th>\n      <td>{'objects': [{'title': 'None', 'value': 'none'...</td>\n      <td>Within normal limits</td>\n      <td>117.JPG</td>\n    </tr>\n  </tbody>\n</table>\n</div>"
     },
     "execution_count": 2,
     "metadata": {},
     "output_type": "execute_result"
    }
   ],
   "source": [
    "expert_path = 'tufts-dental-database/Expert/expert.json'\n",
    "expert_df = pd.read_json(expert_path)\n",
    "expert_df.head()"
   ],
   "metadata": {
    "collapsed": false
   }
  },
  {
   "cell_type": "code",
   "execution_count": 3,
   "outputs": [
    {
     "data": {
      "text/plain": "0      {'objects': [{'title': 'None', 'value': 'none'...\n1      {'objects': [{'title': 'None', 'value': 'none'...\n2      {'objects': [{'title': 'None', 'value': 'none'...\n3      {'objects': [{'title': 'None', 'value': 'none'...\n4      {'objects': [{'title': 'None', 'value': 'none'...\n                             ...                        \n995    {'objects': [{'title': 'Periapical', 'value': ...\n996    {'objects': [{'title': 'Non-Odontogenic', 'val...\n997    {'objects': [{'title': 'None', 'value': 'none'...\n998    {'objects': [{'title': 'None', 'value': 'none'...\n999    {'objects': [{'title': 'Periapical', 'value': ...\nName: Label, Length: 1000, dtype: object"
     },
     "execution_count": 3,
     "metadata": {},
     "output_type": "execute_result"
    }
   ],
   "source": [
    "expert_df.Label"
   ],
   "metadata": {
    "collapsed": false
   }
  },
  {
   "cell_type": "code",
   "execution_count": 4,
   "outputs": [
    {
     "data": {
      "text/plain": "               title            value  \\\n0               None             none   \n1               None             none   \n2               None             none   \n3               None             none   \n4               None             none   \n..               ...              ...   \n995       Periapical       periapical   \n996  Non-Odontogenic  non-odontogenic   \n997             None             none   \n998             None             none   \n999       Periapical       periapical   \n\n                                       classifications  \\\n0                                                 none   \n1                                                 none   \n2                                                 none   \n3                                                 none   \n4                                                 none   \n..                                                 ...   \n995  [{'featureId': 'ck4ejta67049t0xg2xmuudqqw', 's...   \n996  [{'featureId': 'ck4ejuf3204ak0xg2iu8qjc9s', 's...   \n997                                               none   \n998                                               none   \n999  [{'featureId': 'ck4ejzeto10dd0xdpu2w5akqq', 's...   \n\n                                              polygons  \n0                                                 none  \n1                                                 none  \n2                                                 none  \n3                                                 none  \n4                                                 none  \n..                                                 ...  \n995  [[[493, 562], [492, 563], [491, 563], [490, 56...  \n996  [[[1473, 701], [1473, 706], [1472, 707], [1472...  \n997                                               none  \n998                                               none  \n999  [[[267, 496], [265, 498], [264, 498], [261, 50...  \n\n[1000 rows x 4 columns]",
      "text/html": "<div>\n<style scoped>\n    .dataframe tbody tr th:only-of-type {\n        vertical-align: middle;\n    }\n\n    .dataframe tbody tr th {\n        vertical-align: top;\n    }\n\n    .dataframe thead th {\n        text-align: right;\n    }\n</style>\n<table border=\"1\" class=\"dataframe\">\n  <thead>\n    <tr style=\"text-align: right;\">\n      <th></th>\n      <th>title</th>\n      <th>value</th>\n      <th>classifications</th>\n      <th>polygons</th>\n    </tr>\n  </thead>\n  <tbody>\n    <tr>\n      <th>0</th>\n      <td>None</td>\n      <td>none</td>\n      <td>none</td>\n      <td>none</td>\n    </tr>\n    <tr>\n      <th>1</th>\n      <td>None</td>\n      <td>none</td>\n      <td>none</td>\n      <td>none</td>\n    </tr>\n    <tr>\n      <th>2</th>\n      <td>None</td>\n      <td>none</td>\n      <td>none</td>\n      <td>none</td>\n    </tr>\n    <tr>\n      <th>3</th>\n      <td>None</td>\n      <td>none</td>\n      <td>none</td>\n      <td>none</td>\n    </tr>\n    <tr>\n      <th>4</th>\n      <td>None</td>\n      <td>none</td>\n      <td>none</td>\n      <td>none</td>\n    </tr>\n    <tr>\n      <th>...</th>\n      <td>...</td>\n      <td>...</td>\n      <td>...</td>\n      <td>...</td>\n    </tr>\n    <tr>\n      <th>995</th>\n      <td>Periapical</td>\n      <td>periapical</td>\n      <td>[{'featureId': 'ck4ejta67049t0xg2xmuudqqw', 's...</td>\n      <td>[[[493, 562], [492, 563], [491, 563], [490, 56...</td>\n    </tr>\n    <tr>\n      <th>996</th>\n      <td>Non-Odontogenic</td>\n      <td>non-odontogenic</td>\n      <td>[{'featureId': 'ck4ejuf3204ak0xg2iu8qjc9s', 's...</td>\n      <td>[[[1473, 701], [1473, 706], [1472, 707], [1472...</td>\n    </tr>\n    <tr>\n      <th>997</th>\n      <td>None</td>\n      <td>none</td>\n      <td>none</td>\n      <td>none</td>\n    </tr>\n    <tr>\n      <th>998</th>\n      <td>None</td>\n      <td>none</td>\n      <td>none</td>\n      <td>none</td>\n    </tr>\n    <tr>\n      <th>999</th>\n      <td>Periapical</td>\n      <td>periapical</td>\n      <td>[{'featureId': 'ck4ejzeto10dd0xdpu2w5akqq', 's...</td>\n      <td>[[[267, 496], [265, 498], [264, 498], [261, 50...</td>\n    </tr>\n  </tbody>\n</table>\n<p>1000 rows × 4 columns</p>\n</div>"
     },
     "execution_count": 4,
     "metadata": {},
     "output_type": "execute_result"
    }
   ],
   "source": [
    "a = pd.json_normalize(expert_df.Label)\n",
    "a = pd.json_normalize(a.objects)\n",
    "a = pd.json_normalize(a[0])\n",
    "# a = pd.json_normalize(a['classifications'])\n",
    "a"
   ],
   "metadata": {
    "collapsed": false
   }
  },
  {
   "cell_type": "markdown",
   "source": [
    "904.jpg\n",
    "inflammation on 18, 21, 20"
   ],
   "metadata": {
    "collapsed": false
   }
  },
  {
   "cell_type": "code",
   "execution_count": 5,
   "outputs": [],
   "source": [
    "radiograph = 'tufts-dental-database/Radiographs'\n",
    "segmentation = 'tufts-dental-database/Segmentation'\n",
    "expert = 'tufts-dental-database/Expert'\n",
    "student = 'tufts-dental-database/Student'\n",
    "\n",
    "radiograph_images = os.listdir(radiograph)\n",
    "radiograph_expert_masks = os.listdir(expert+'/mask')"
   ],
   "metadata": {
    "collapsed": false
   }
  },
  {
   "cell_type": "code",
   "execution_count": 6,
   "outputs": [],
   "source": [
    "def draw_polygon_mask(xy_per_polygon, img_path):\n",
    "    xray = Image.open(img_path)\n",
    "\n",
    "\n",
    "    for xy in xy_per_polygon:\n",
    "        abnormality_mask = xray.copy()\n",
    "        draw = ImageDraw.Draw(abnormality_mask)\n",
    "        draw.polygon(xy, fill =\"#eeeeff\", outline =\"blue\")\n",
    "\n",
    "        xray = Image.blend(xray, abnormality_mask, 0.5)\n",
    "    return xray\n",
    "\n",
    "# x = [100, 200, 100]\n",
    "# y = [150, 450, 700]\n",
    "# xy = list(zip(x,y))\n",
    "# draw_polygon_mask(xy, 'bdsm meme.jpg')"
   ],
   "metadata": {
    "collapsed": false
   }
  },
  {
   "cell_type": "code",
   "execution_count": 18,
   "outputs": [],
   "source": [
    "sample = expert_df[expert_df['External ID'] == '1002.JPG']\n",
    "sample = pd.json_normalize(sample['Label'])\n",
    "sample = sample['objects'][0]\n",
    "sample = pd.json_normalize(sample)\n",
    "sample = sample['polygons'][0]\n",
    "mask_1 = sample[0]\n",
    "mask_1 = list(map(tuple, mask_1))\n",
    "# mask_2 = sample[1]\n",
    "# mask_2 = list(map(tuple, mask_2))"
   ],
   "metadata": {
    "collapsed": false
   }
  },
  {
   "cell_type": "code",
   "execution_count": 19,
   "outputs": [],
   "source": [
    "xray_sample = radiograph +'/1002.jpg'\n",
    "xray_sample_mask = expert + '/mask/1002.jpg'"
   ],
   "metadata": {
    "collapsed": false
   }
  },
  {
   "cell_type": "code",
   "execution_count": 20,
   "outputs": [],
   "source": [
    "# xray\n",
    "a = Image.open(xray_sample)\n",
    "a.show()\n",
    "# mask\n",
    "b = Image.open(xray_sample_mask)\n",
    "b.show()\n",
    "# overlayed mask\n",
    "a.paste(b, mask=b)\n",
    "a.show()\n",
    "# overlayed polygon mask\n",
    "c = draw_polygon_mask([mask_1], xray_sample)\n",
    "c.show()"
   ],
   "metadata": {
    "collapsed": false
   }
  }
 ],
 "metadata": {
  "kernelspec": {
   "display_name": "Python 3",
   "language": "python",
   "name": "python3"
  },
  "language_info": {
   "codemirror_mode": {
    "name": "ipython",
    "version": 2
   },
   "file_extension": ".py",
   "mimetype": "text/x-python",
   "name": "python",
   "nbconvert_exporter": "python",
   "pygments_lexer": "ipython2",
   "version": "2.7.6"
  }
 },
 "nbformat": 4,
 "nbformat_minor": 0
}
