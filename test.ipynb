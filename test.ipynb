{
 "cells": [
  {
   "cell_type": "code",
   "execution_count": 8,
   "metadata": {
    "collapsed": true
   },
   "outputs": [],
   "source": [
    "import os\n",
    "import json\n",
    "\n",
    "annot_dir = \"C:\\\\Users\\\\pc\\\\MyProjects\\\\JupyterLabNotes\\\\new\\\\tdd-model\\\\dataset\\\\Tufts Dental Database\\\\Expert\\\\expert.json\"\n",
    "annotations = json.load(open(annot_dir))"
   ]
  },
  {
   "cell_type": "code",
   "execution_count": 9,
   "outputs": [],
   "source": [
    "train = json.load(open(\"C:\\\\Users\\\\pc\\\\MyProjects\\\\JupyterLabNotes\\\\new\\\\tdd-model\\\\dataset\\\\train.json\"))\n",
    "val = json.load(open(\"C:\\\\Users\\\\pc\\\\MyProjects\\\\JupyterLabNotes\\\\new\\\\tdd-model\\\\dataset\\\\val.json\"))"
   ],
   "metadata": {
    "collapsed": false
   }
  },
  {
   "cell_type": "code",
   "execution_count": 10,
   "outputs": [
    {
     "name": "stdout",
     "output_type": "stream",
     "text": [
      "{'benign_cyst_neoplasia': 40, 'developmental': 99, 'dysplasia': 8, 'inflammation': 287, 'malignant_neoplasia': 1, 'metabolic/systemic': 11, 'none': 232, 'trauma': 6}\n",
      "{'benign_cyst_neoplasia': 15, 'developmental': 27, 'dysplasia': 3, 'inflammation': 72, 'malignant_neoplasia': 1, 'metabolic/systemic': 3, 'none': 429, 'trauma': 2}\n"
     ]
    }
   ],
   "source": [
    "def count_labels(annot_set):\n",
    "    labels = {'none':0}\n",
    "    name_dict = {0: 'none',\n",
    "                 1: 'benign_cyst_neoplasia',\n",
    "                 2: 'malignant_neoplasia',\n",
    "                 3: 'inflammation',\n",
    "                 4: 'dysplasia',\n",
    "                 5: 'metabolic/systemic',\n",
    "                 6: 'trauma', 7:\n",
    "                     'developmental'}\n",
    "    for i, annot in enumerate(annot_set):\n",
    "        num_ids = annot['num_ids']\n",
    "        if num_ids:\n",
    "            for id in num_ids:\n",
    "                name = name_dict[id]\n",
    "                if name in labels:\n",
    "                    labels[name] += 1\n",
    "                else:\n",
    "                    labels[name] = 1\n",
    "            # print(i, annot['image_id'])\n",
    "        else:\n",
    "            labels['none'] +=1\n",
    "    print(dict(sorted(labels.items())))\n",
    "\n",
    "count_labels(train)\n",
    "count_labels(val)"
   ],
   "metadata": {
    "collapsed": false
   }
  },
  {
   "cell_type": "code",
   "execution_count": 11,
   "outputs": [
    {
     "data": {
      "text/plain": "(500, 500)"
     },
     "execution_count": 11,
     "metadata": {},
     "output_type": "execute_result"
    }
   ],
   "source": [
    "len(train), len(val)"
   ],
   "metadata": {
    "collapsed": false
   }
  }
 ],
 "metadata": {
  "kernelspec": {
   "display_name": "Python 3",
   "language": "python",
   "name": "python3"
  },
  "language_info": {
   "codemirror_mode": {
    "name": "ipython",
    "version": 2
   },
   "file_extension": ".py",
   "mimetype": "text/x-python",
   "name": "python",
   "nbconvert_exporter": "python",
   "pygments_lexer": "ipython2",
   "version": "2.7.6"
  }
 },
 "nbformat": 4,
 "nbformat_minor": 0
}
